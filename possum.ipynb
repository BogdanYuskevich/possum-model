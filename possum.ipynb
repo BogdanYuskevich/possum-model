{
 "cells": [
  {
   "cell_type": "code",
   "execution_count": null,
   "id": "c3cebc34-a8e6-4f32-967d-d7ed02a99d2e",
   "metadata": {},
   "outputs": [],
   "source": [
    "import pandas as pd\n",
    "import numpy as np\n",
    "import matplotlib.pyplot as plt\n",
    "import missingno as msno\n",
    "import regex as re\n",
    "import seaborn as sns\n",
    "from sklearn.model_selection import train_test_split\n",
    "from sklearn import preprocessing,model_selection,linear_model\n",
    "from sklearn.metrics import r2_score\n",
    "from sklearn.preprocessing import PolynomialFeatures\n",
    "from sklearn.model_selection import GridSearchCV\n",
    "from sklearn.metrics import mean_squared_error\n"
   ]
  },
  {
   "cell_type": "code",
   "execution_count": null,
   "id": "8a2e8d22-62f9-42c1-ad9e-27a1dcdaa09e",
   "metadata": {},
   "outputs": [],
   "source": [
    "df=pd.read_csv(\"possum.csv\")\n",
    "msno.matrix(df)"
   ]
  },
  {
   "cell_type": "code",
   "execution_count": null,
   "id": "19634fa4-afe7-4ec3-a753-93ccfc7aea08",
   "metadata": {},
   "outputs": [],
   "source": [
    "df.dropna()"
   ]
  },
  {
   "cell_type": "code",
   "execution_count": null,
   "id": "7f84859d-ecfa-4944-a824-89942d5ea416",
   "metadata": {},
   "outputs": [],
   "source": [
    "analysis_df = df.drop(['sex', 'Pop'], axis=1)\n",
    "sns.heatmap(analysis_df.corr(), annot=True, cmap=\"YlGnBu\", linewidths=0.1, linecolor='black')"
   ]
  },
  {
   "cell_type": "code",
   "execution_count": null,
   "id": "cc3bdcf2-6780-4edd-87dc-6fea087aaa1d",
   "metadata": {},
   "outputs": [],
   "source": [
    "df.info()"
   ]
  },
  {
   "cell_type": "code",
   "execution_count": null,
   "id": "1d857edc-b174-48ae-a8b7-9ff7091d0ba0",
   "metadata": {},
   "outputs": [],
   "source": [
    "df = pd.get_dummies(df, columns=['Pop', 'sex'])"
   ]
  },
  {
   "cell_type": "code",
   "execution_count": null,
   "id": "ae19c63f-461e-4fc5-ab55-7eb259066a28",
   "metadata": {},
   "outputs": [],
   "source": [
    "df = df.drop(['case','site','earconch'],axis=1)"
   ]
  },
  {
   "cell_type": "code",
   "execution_count": null,
   "id": "a87ad552-4a06-42be-8ae8-89a47926bf8b",
   "metadata": {},
   "outputs": [],
   "source": [
    "df.head()"
   ]
  },
  {
   "cell_type": "code",
   "execution_count": null,
   "id": "070d46a8-de79-4c13-917c-f3d9a2dd69ed",
   "metadata": {},
   "outputs": [],
   "source": [
    "df.tail()"
   ]
  },
  {
   "cell_type": "code",
   "execution_count": null,
   "id": "eab4502b-97ec-453c-a598-409b0b4422e3",
   "metadata": {},
   "outputs": [],
   "source": [
    "normalize = ['age', 'hdlngth','skullw','totlngth','taill','footlgth','eye','chest','belly']\n",
    "\n",
    "scaler = preprocessing.MinMaxScaler()\n",
    "\n",
    "df[normalize ] = scaler.fit_transform(df[normalize ])"
   ]
  },
  {
   "cell_type": "code",
   "execution_count": null,
   "id": "475a31c2-365e-4323-9805-a68fe905bd10",
   "metadata": {},
   "outputs": [],
   "source": [
    "df.head()"
   ]
  },
  {
   "cell_type": "code",
   "execution_count": null,
   "id": "369e3635-81b8-422b-9eff-5b0f6c0641bd",
   "metadata": {},
   "outputs": [],
   "source": [
    "analysis_df = df.drop(['Pop_Vic', 'Pop_other','sex_f','sex_m'], axis=1)\n",
    "sns.heatmap(analysis_df.corr(), annot=True, cmap=\"YlGnBu\", linewidths=0.1, linecolor='black')"
   ]
  },
  {
   "cell_type": "code",
   "execution_count": null,
   "id": "6151fc7e-7675-40ad-943a-5911fd690b6d",
   "metadata": {},
   "outputs": [],
   "source": [
    "df = df.dropna()"
   ]
  },
  {
   "cell_type": "code",
   "execution_count": null,
   "id": "5c34ebe0-fe0f-457b-8ff7-508fa9d9f796",
   "metadata": {},
   "outputs": [],
   "source": [
    "y = df[['age']].values\n",
    "X = df.drop(['age'],axis=1).values\n",
    "poly = PolynomialFeatures(degree=2)\n",
    "squared_names = ['skullw', 'eye', 'taill', 'footlgth']\n",
    "\n",
    "# Get indices of columns in 'squared_names' from the DataFrame columns\n",
    "column_indices = [df.columns.get_loc(col) for col in squared_names]\n",
    "\n",
    "# Select specific columns from the NumPy array using indices\n",
    "squared = X[:, column_indices]\n",
    "\n",
    "X_poly = poly.fit_transform(squared)"
   ]
  },
  {
   "cell_type": "code",
   "execution_count": null,
   "id": "96505bbd-e97c-447a-b4c7-e2d86465198b",
   "metadata": {},
   "outputs": [],
   "source": [
    "X_train, X_test, y_train, y_test = train_test_split(X_poly, y, test_size=0.15, random_state=420)\n",
    "\n",
    "model = linear_model.LinearRegression()"
   ]
  },
  {
   "cell_type": "code",
   "execution_count": null,
   "id": "67ac2226-2e5e-491a-b442-254b3523e7bf",
   "metadata": {},
   "outputs": [],
   "source": [
    "hyper_l = {'n_jobs': [1, 2, 3, 4, 7, 12]}\n",
    "l_model = linear_model.LinearRegression()\n",
    "models = [l_model]\n",
    "parameters = [hyper_l]\n",
    "\n",
    "rmse = []\n",
    "r2 = []\n",
    "for i in range(len(models)):\n",
    "    model = GridSearchCV(models[i], parameters[i], cv=5, scoring=\"r2\", n_jobs=-1)\n",
    "    model.fit(X_train, y_train)\n",
    "    y_preds = model.predict(X_test)\n",
    "    print(model.best_estimator_)\n",
    "    print(\"---------------------------------------------------------------\")\n",
    "    rmse.append(np.sqrt(mean_squared_error(y_test, y_preds)))\n",
    "    r2.append(r2_score(y_test, y_preds))"
   ]
  },
  {
   "cell_type": "code",
   "execution_count": null,
   "id": "22084423-c8d2-43ba-9b27-21410398d1c3",
   "metadata": {},
   "outputs": [],
   "source": [
    "rmse"
   ]
  },
  {
   "cell_type": "code",
   "execution_count": null,
   "id": "0faa100c-84e1-4849-b769-82537e62c44f",
   "metadata": {},
   "outputs": [],
   "source": [
    "r2"
   ]
  }
 ],
 "metadata": {
  "kernelspec": {
   "display_name": "Python 3 (ipykernel)",
   "language": "python",
   "name": "python3"
  },
  "language_info": {
   "codemirror_mode": {
    "name": "ipython",
    "version": 3
   },
   "file_extension": ".py",
   "mimetype": "text/x-python",
   "name": "python",
   "nbconvert_exporter": "python",
   "pygments_lexer": "ipython3",
   "version": "3.12.0"
  }
 },
 "nbformat": 4,
 "nbformat_minor": 5
}
